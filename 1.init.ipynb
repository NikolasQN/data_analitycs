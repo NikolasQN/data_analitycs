{
 "cells": [
  {
   "cell_type": "markdown",
   "id": "dba2b122",
   "metadata": {},
   "source": [
    "# Первый вводный урок по 2 модулю\n",
    "## Знакомство с массивами "
   ]
  },
  {
   "cell_type": "code",
   "execution_count": 3,
   "id": "ead36226",
   "metadata": {},
   "outputs": [
    {
     "name": "stdout",
     "output_type": "stream",
     "text": [
      "Requirement already satisfied: numpy in c:\\users\\user's\\appdata\\local\\programs\\python\\python310\\lib\\site-packages (1.23.2)\n"
     ]
    }
   ],
   "source": [
    "!pip install numpy"
   ]
  },
  {
   "cell_type": "code",
   "execution_count": 5,
   "id": "e812298f",
   "metadata": {},
   "outputs": [
    {
     "name": "stdout",
     "output_type": "stream",
     "text": [
      "Hello, Numpy!\n"
     ]
    }
   ],
   "source": [
    "print(\"Hello, Numpy!\")"
   ]
  },
  {
   "cell_type": "code",
   "execution_count": null,
   "id": "19cbf86b",
   "metadata": {},
   "outputs": [],
   "source": []
  },
  {
   "cell_type": "code",
   "execution_count": 10,
   "id": "d616e213",
   "metadata": {},
   "outputs": [
    {
     "data": {
      "text/plain": [
       "'hello'"
      ]
     },
     "execution_count": 10,
     "metadata": {},
     "output_type": "execute_result"
    }
   ],
   "source": [
    "\"hello\""
   ]
  },
  {
   "cell_type": "code",
   "execution_count": 9,
   "id": "ada569e3",
   "metadata": {},
   "outputs": [
    {
     "name": "stdout",
     "output_type": "stream",
     "text": [
      "30\n",
      "200\n"
     ]
    }
   ],
   "source": [
    "a = 10\n",
    "b = 20\n",
    "\n",
    "print(a + b)\n",
    "print(a * b)\n"
   ]
  },
  {
   "cell_type": "code",
   "execution_count": 11,
   "id": "f842c33e",
   "metadata": {},
   "outputs": [
    {
     "data": {
      "text/plain": [
       "20"
      ]
     },
     "execution_count": 11,
     "metadata": {},
     "output_type": "execute_result"
    }
   ],
   "source": [
    "a\n",
    "b"
   ]
  },
  {
   "cell_type": "code",
   "execution_count": null,
   "id": "72653025",
   "metadata": {},
   "outputs": [],
   "source": []
  },
  {
   "cell_type": "code",
   "execution_count": 1,
   "id": "e00f7bdc",
   "metadata": {},
   "outputs": [],
   "source": [
    "# импортирование библиотеки Numpy\n",
    "import numpy\n",
    "\n",
    "# создание массива на базе списка\n",
    "my_list_0 = [10, 20, 30, 40]\n",
    "my_list_1 = [10, 20, 3.14, \"40\"]\n",
    "my_list_2 = [10, 20, 3.14]"
   ]
  },
  {
   "cell_type": "code",
   "execution_count": 13,
   "id": "ab4d0df7",
   "metadata": {},
   "outputs": [
    {
     "data": {
      "text/plain": [
       "array([10, 20, 30, 40])"
      ]
     },
     "execution_count": 13,
     "metadata": {},
     "output_type": "execute_result"
    }
   ],
   "source": [
    "array_0 = numpy.array(my_list_0)\n",
    "array_0"
   ]
  },
  {
   "cell_type": "code",
   "execution_count": 14,
   "id": "274a8c49",
   "metadata": {},
   "outputs": [
    {
     "data": {
      "text/plain": [
       "array(['10', '20', '3.14', '40'], dtype='<U32')"
      ]
     },
     "execution_count": 14,
     "metadata": {},
     "output_type": "execute_result"
    }
   ],
   "source": [
    "array_1 = numpy.array(my_list_1)\n",
    "array_1"
   ]
  },
  {
   "cell_type": "code",
   "execution_count": 16,
   "id": "889c4136",
   "metadata": {},
   "outputs": [
    {
     "data": {
      "text/plain": [
       "array([10.  , 20.  ,  3.14])"
      ]
     },
     "execution_count": 16,
     "metadata": {},
     "output_type": "execute_result"
    }
   ],
   "source": [
    "array_2 = numpy.array(my_list_2)\n",
    "array_2"
   ]
  }
 ],
 "metadata": {
  "kernelspec": {
   "display_name": "Python 3 (ipykernel)",
   "language": "python",
   "name": "python3"
  },
  "language_info": {
   "codemirror_mode": {
    "name": "ipython",
    "version": 3
   },
   "file_extension": ".py",
   "mimetype": "text/x-python",
   "name": "python",
   "nbconvert_exporter": "python",
   "pygments_lexer": "ipython3",
   "version": "3.10.5"
  },
  "vscode": {
   "interpreter": {
    "hash": "918cf0d7128b1b687c52edaa365d80692ac260fda5d4c90d78c382ee26c2962f"
   }
  }
 },
 "nbformat": 4,
 "nbformat_minor": 5
}
