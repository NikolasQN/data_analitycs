{
 "cells": [
  {
   "cell_type": "markdown",
   "id": "7e014de4",
   "metadata": {},
   "source": [
    "## Операции"
   ]
  },
  {
   "cell_type": "code",
   "execution_count": 2,
   "id": "475b8ebb",
   "metadata": {},
   "outputs": [],
   "source": [
    "import numpy as np"
   ]
  },
  {
   "cell_type": "code",
   "execution_count": 5,
   "id": "f0858488",
   "metadata": {},
   "outputs": [
    {
     "data": {
      "text/plain": [
       "array([ 1,  2,  3,  4,  5,  6,  7,  8,  9, 10])"
      ]
     },
     "execution_count": 5,
     "metadata": {},
     "output_type": "execute_result"
    }
   ],
   "source": [
    "# 1-мерные массивы\n",
    "arr_0 = np.arange(1, 11)\n",
    "arr_0"
   ]
  },
  {
   "cell_type": "code",
   "execution_count": 4,
   "id": "a3202a76",
   "metadata": {},
   "outputs": [
    {
     "data": {
      "text/plain": [
       "array([ 0,  2,  4,  6,  8, 10, 12, 14, 16, 18])"
      ]
     },
     "execution_count": 4,
     "metadata": {},
     "output_type": "execute_result"
    }
   ],
   "source": [
    "arr_1 = np.arange(0, 19, 2)\n",
    "arr_1"
   ]
  },
  {
   "cell_type": "code",
   "execution_count": 6,
   "id": "f8d05471",
   "metadata": {},
   "outputs": [],
   "source": [
    "# Поэлементное сложение\n",
    "# решение с применением стандартного питонячего инструментария \n",
    "def arr_sum(a, b):\n",
    "    res = []\n",
    "    for idx, val in enumerate(a):\n",
    "        res.append(val + b[idx])\n",
    "    return np.array(res)\n",
    "        "
   ]
  },
  {
   "cell_type": "code",
   "execution_count": 9,
   "id": "bfd7f276",
   "metadata": {},
   "outputs": [
    {
     "name": "stdout",
     "output_type": "stream",
     "text": [
      "15.2 µs ± 2.08 µs per loop (mean ± std. dev. of 7 runs, 10,000 loops each)\n"
     ]
    }
   ],
   "source": [
    "%timeit arr_sum(arr_0, arr_1)"
   ]
  },
  {
   "cell_type": "code",
   "execution_count": 10,
   "id": "7a82ba7b",
   "metadata": {},
   "outputs": [
    {
     "name": "stdout",
     "output_type": "stream",
     "text": [
      "1.85 µs ± 375 ns per loop (mean ± std. dev. of 7 runs, 100,000 loops each)\n"
     ]
    }
   ],
   "source": [
    "# решение с применением NumPy\n",
    "%timeit arr_0 + arr_1"
   ]
  },
  {
   "cell_type": "code",
   "execution_count": 13,
   "id": "85e4fee0",
   "metadata": {},
   "outputs": [
    {
     "name": "stdout",
     "output_type": "stream",
     "text": [
      "2.05 µs ± 103 ns per loop (mean ± std. dev. of 7 runs, 1,000,000 loops each)\n"
     ]
    }
   ],
   "source": [
    "%timeit np.add(arr_0, arr_1)"
   ]
  },
  {
   "cell_type": "code",
   "execution_count": 14,
   "id": "f40c7f29",
   "metadata": {},
   "outputs": [
    {
     "data": {
      "text/plain": [
       "array([ 1,  4,  7, 10, 13, 16, 19, 22, 25, 28])"
      ]
     },
     "execution_count": 14,
     "metadata": {},
     "output_type": "execute_result"
    }
   ],
   "source": [
    "arr_0 + arr_1"
   ]
  },
  {
   "cell_type": "code",
   "execution_count": 16,
   "id": "51ca9896",
   "metadata": {},
   "outputs": [
    {
     "data": {
      "text/plain": [
       "array([[0, 1, 2],\n",
       "       [3, 4, 5],\n",
       "       [6, 7, 8]])"
      ]
     },
     "execution_count": 16,
     "metadata": {},
     "output_type": "execute_result"
    }
   ],
   "source": [
    "# поэлементное умножение 2-мерных массивов\n",
    "arr_2 = np.arange(9)\n",
    "arr_3 = arr_2.reshape((3,3))\n",
    "arr_3"
   ]
  },
  {
   "cell_type": "code",
   "execution_count": 17,
   "id": "7241ff10",
   "metadata": {},
   "outputs": [
    {
     "data": {
      "text/plain": [
       "array([[1, 2, 3],\n",
       "       [4, 5, 6],\n",
       "       [7, 8, 9]])"
      ]
     },
     "execution_count": 17,
     "metadata": {},
     "output_type": "execute_result"
    }
   ],
   "source": [
    "arr_4 = np.arange(1,10).reshape((3,3))\n",
    "arr_4"
   ]
  },
  {
   "cell_type": "code",
   "execution_count": 18,
   "id": "c114a450",
   "metadata": {},
   "outputs": [
    {
     "data": {
      "text/plain": [
       "array([[ 0,  2,  6],\n",
       "       [12, 20, 30],\n",
       "       [42, 56, 72]])"
      ]
     },
     "execution_count": 18,
     "metadata": {},
     "output_type": "execute_result"
    }
   ],
   "source": [
    "arr_3 * arr_4"
   ]
  },
  {
   "cell_type": "code",
   "execution_count": null,
   "id": "82c20791",
   "metadata": {},
   "outputs": [],
   "source": []
  },
  {
   "cell_type": "code",
   "execution_count": 20,
   "id": "8822aa4a",
   "metadata": {},
   "outputs": [
    {
     "data": {
      "text/plain": [
       "(array([0, 1, 2]),\n",
       " array([[0],\n",
       "        [1],\n",
       "        [2]]))"
      ]
     },
     "execution_count": 20,
     "metadata": {},
     "output_type": "execute_result"
    }
   ],
   "source": [
    "# Точечное умножение\n",
    "# скалярное произведение\n",
    "r_vector = np.arange(3)\n",
    "c_vector = np.arange(3).reshape((3,1))\n",
    "\n",
    "r_vector, c_vector"
   ]
  },
  {
   "cell_type": "code",
   "execution_count": 21,
   "id": "abe881f6",
   "metadata": {},
   "outputs": [
    {
     "data": {
      "text/plain": [
       "array([5])"
      ]
     },
     "execution_count": 21,
     "metadata": {},
     "output_type": "execute_result"
    }
   ],
   "source": [
    "np.dot(r_vector, c_vector)"
   ]
  },
  {
   "cell_type": "code",
   "execution_count": 22,
   "id": "5a07c0d5",
   "metadata": {},
   "outputs": [
    {
     "data": {
      "text/plain": [
       "array([5])"
      ]
     },
     "execution_count": 22,
     "metadata": {},
     "output_type": "execute_result"
    }
   ],
   "source": [
    "r_vector @ c_vector"
   ]
  },
  {
   "cell_type": "code",
   "execution_count": 23,
   "id": "9b989cfc",
   "metadata": {},
   "outputs": [
    {
     "data": {
      "text/plain": [
       "array([[0, 1],\n",
       "       [2, 3],\n",
       "       [4, 5]])"
      ]
     },
     "execution_count": 23,
     "metadata": {},
     "output_type": "execute_result"
    }
   ],
   "source": [
    "# Точечное умножение вектора на матрицу\n",
    "matrix = np.arange(3*2).reshape((3,2))\n",
    "matrix"
   ]
  },
  {
   "cell_type": "code",
   "execution_count": 24,
   "id": "3c5f248a",
   "metadata": {},
   "outputs": [
    {
     "data": {
      "text/plain": [
       "array([10, 13])"
      ]
     },
     "execution_count": 24,
     "metadata": {},
     "output_type": "execute_result"
    }
   ],
   "source": [
    "r_vector @ matrix"
   ]
  },
  {
   "cell_type": "code",
   "execution_count": 25,
   "id": "7f59d573",
   "metadata": {},
   "outputs": [
    {
     "data": {
      "text/plain": [
       "(array([[0, 1],\n",
       "        [2, 3]]),\n",
       " array([[0, 2],\n",
       "        [1, 3]]))"
      ]
     },
     "execution_count": 25,
     "metadata": {},
     "output_type": "execute_result"
    }
   ],
   "source": [
    "# точечное умножение матрицы на матрицу (матричное умножение)\n",
    "matrix_1 = np.arange(2*2).reshape((2,2))\n",
    "matrix_2 = np.arange(2*2).reshape((2,2)).T\n",
    "\n",
    "matrix_1, matrix_2"
   ]
  },
  {
   "cell_type": "code",
   "execution_count": 26,
   "id": "ed825873",
   "metadata": {},
   "outputs": [
    {
     "data": {
      "text/plain": [
       "array([[ 1,  3],\n",
       "       [ 3, 13]])"
      ]
     },
     "execution_count": 26,
     "metadata": {},
     "output_type": "execute_result"
    }
   ],
   "source": [
    "matrix_1 @ matrix_2"
   ]
  },
  {
   "cell_type": "code",
   "execution_count": null,
   "id": "55a3492f",
   "metadata": {},
   "outputs": [],
   "source": []
  },
  {
   "cell_type": "code",
   "execution_count": 28,
   "id": "39f85206",
   "metadata": {},
   "outputs": [
    {
     "data": {
      "text/plain": [
       "(array([[0, 1, 2],\n",
       "        [3, 4, 5],\n",
       "        [6, 7, 8]]),\n",
       " array([[1, 2, 3],\n",
       "        [4, 5, 6],\n",
       "        [7, 8, 9]]))"
      ]
     },
     "execution_count": 28,
     "metadata": {},
     "output_type": "execute_result"
    }
   ],
   "source": [
    "# логические операции\n",
    "arr_3, arr_4"
   ]
  },
  {
   "cell_type": "code",
   "execution_count": 29,
   "id": "a89143c4",
   "metadata": {},
   "outputs": [
    {
     "data": {
      "text/plain": [
       "array([[ True,  True,  True],\n",
       "       [ True,  True,  True],\n",
       "       [ True,  True,  True]])"
      ]
     },
     "execution_count": 29,
     "metadata": {},
     "output_type": "execute_result"
    }
   ],
   "source": [
    "# поэлементное сравнение\n",
    "arr_3 != arr_4"
   ]
  },
  {
   "cell_type": "code",
   "execution_count": 30,
   "id": "47d89c6f",
   "metadata": {},
   "outputs": [
    {
     "data": {
      "text/plain": [
       "array([[ True,  True,  True],\n",
       "       [ True,  True, False],\n",
       "       [False, False, False]])"
      ]
     },
     "execution_count": 30,
     "metadata": {},
     "output_type": "execute_result"
    }
   ],
   "source": [
    "# сравнение массива со скаляром\n",
    "arr_3 < 5"
   ]
  },
  {
   "cell_type": "code",
   "execution_count": 31,
   "id": "aa65c6c5",
   "metadata": {},
   "outputs": [
    {
     "data": {
      "text/plain": [
       "False"
      ]
     },
     "execution_count": 31,
     "metadata": {},
     "output_type": "execute_result"
    }
   ],
   "source": [
    "# все ли значения массива больше 5?\n",
    "np.all(arr_3 > 5)"
   ]
  },
  {
   "cell_type": "code",
   "execution_count": 32,
   "id": "3cdc94cc",
   "metadata": {},
   "outputs": [
    {
     "data": {
      "text/plain": [
       "True"
      ]
     },
     "execution_count": 32,
     "metadata": {},
     "output_type": "execute_result"
    }
   ],
   "source": [
    "# есть ли хоть одно значение в массиве которое больше 5?\n",
    "np.any(arr_3>5)"
   ]
  },
  {
   "cell_type": "code",
   "execution_count": 34,
   "id": "fd6d0ea2",
   "metadata": {},
   "outputs": [
    {
     "data": {
      "text/plain": [
       "array([5, 0, 3, 3, 7])"
      ]
     },
     "execution_count": 34,
     "metadata": {},
     "output_type": "execute_result"
    }
   ],
   "source": [
    "# маскирование\n",
    "\n",
    "np.random.seed(0)\n",
    "\n",
    "arr_5 = np.random.randint(10, size=5)\n",
    "arr_5"
   ]
  },
  {
   "cell_type": "code",
   "execution_count": 35,
   "id": "d7263889",
   "metadata": {},
   "outputs": [
    {
     "data": {
      "text/plain": [
       "array([ True, False, False, False,  True])"
      ]
     },
     "execution_count": 35,
     "metadata": {},
     "output_type": "execute_result"
    }
   ],
   "source": [
    "mask = arr_5 >= 5\n",
    "mask"
   ]
  },
  {
   "cell_type": "code",
   "execution_count": 36,
   "id": "b1014390",
   "metadata": {},
   "outputs": [
    {
     "data": {
      "text/plain": [
       "array([5, 7])"
      ]
     },
     "execution_count": 36,
     "metadata": {},
     "output_type": "execute_result"
    }
   ],
   "source": [
    "arr_5[mask]"
   ]
  },
  {
   "cell_type": "code",
   "execution_count": 37,
   "id": "1162f0e6",
   "metadata": {},
   "outputs": [
    {
     "data": {
      "text/plain": [
       "array([9, 3, 5, 2, 4, 7, 6])"
      ]
     },
     "execution_count": 37,
     "metadata": {},
     "output_type": "execute_result"
    }
   ],
   "source": [
    "arr_6 = np.random.randint(10, size=7)\n",
    "arr_6"
   ]
  },
  {
   "cell_type": "code",
   "execution_count": 38,
   "id": "5f27621b",
   "metadata": {},
   "outputs": [
    {
     "data": {
      "text/plain": [
       "array([9, 5, 7, 6])"
      ]
     },
     "execution_count": 38,
     "metadata": {},
     "output_type": "execute_result"
    }
   ],
   "source": [
    "arr_6[arr_6 >= 5]"
   ]
  },
  {
   "cell_type": "code",
   "execution_count": null,
   "id": "58297e32",
   "metadata": {},
   "outputs": [],
   "source": []
  }
 ],
 "metadata": {
  "kernelspec": {
   "display_name": "Python 3 (ipykernel)",
   "language": "python",
   "name": "python3"
  },
  "language_info": {
   "codemirror_mode": {
    "name": "ipython",
    "version": 3
   },
   "file_extension": ".py",
   "mimetype": "text/x-python",
   "name": "python",
   "nbconvert_exporter": "python",
   "pygments_lexer": "ipython3",
   "version": "3.10.5"
  }
 },
 "nbformat": 4,
 "nbformat_minor": 5
}
