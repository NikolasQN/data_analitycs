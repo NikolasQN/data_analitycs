{
 "cells": [
  {
   "cell_type": "markdown",
   "id": "11295edb",
   "metadata": {},
   "source": [
    "## Создание массивов\n"
   ]
  },
  {
   "cell_type": "code",
   "execution_count": 1,
   "id": "face0933",
   "metadata": {},
   "outputs": [],
   "source": [
    "# импортирование numpy\n",
    "import numpy as np"
   ]
  },
  {
   "cell_type": "code",
   "execution_count": 3,
   "id": "dd50cc9d",
   "metadata": {},
   "outputs": [
    {
     "data": {
      "text/plain": [
       "array([10, 20, 30, 40])"
      ]
     },
     "execution_count": 3,
     "metadata": {},
     "output_type": "execute_result"
    }
   ],
   "source": [
    "# 1-мерный массив (вектор-строка)\n",
    "\n",
    "arr_1 = np.array([10, 20, 30, 40])\n",
    "arr_1"
   ]
  },
  {
   "cell_type": "code",
   "execution_count": 5,
   "id": "e102bf1f",
   "metadata": {},
   "outputs": [
    {
     "data": {
      "text/plain": [
       "array([[10],\n",
       "       [20],\n",
       "       [30],\n",
       "       [40]])"
      ]
     },
     "execution_count": 5,
     "metadata": {},
     "output_type": "execute_result"
    }
   ],
   "source": [
    "# 2-мерный массив \n",
    "# вектор-столбец\n",
    "\n",
    "arr_2 = np.array([[10], [20], [30], [40]])\n",
    "arr_2\n"
   ]
  },
  {
   "cell_type": "code",
   "execution_count": 6,
   "id": "80f0ed1a",
   "metadata": {},
   "outputs": [
    {
     "data": {
      "text/plain": [
       "array([[100, 200, 300],\n",
       "       [400, 500, 600]])"
      ]
     },
     "execution_count": 6,
     "metadata": {},
     "output_type": "execute_result"
    }
   ],
   "source": [
    "# матрица\n",
    "\n",
    "list_1 = [\n",
    "    [100, 200, 300],\n",
    "    [400, 500, 600]\n",
    "]\n",
    "\n",
    "arr_3 = np.array(list_1)\n",
    "arr_3"
   ]
  },
  {
   "cell_type": "code",
   "execution_count": null,
   "id": "579395ad",
   "metadata": {},
   "outputs": [],
   "source": []
  },
  {
   "cell_type": "code",
   "execution_count": 7,
   "id": "8d9f1227",
   "metadata": {},
   "outputs": [
    {
     "data": {
      "text/plain": [
       "array([0.00000000e+000, 3.21886076e-312, 3.21886076e-312, 3.21886075e-312,\n",
       "       0.00000000e+000])"
      ]
     },
     "execution_count": 7,
     "metadata": {},
     "output_type": "execute_result"
    }
   ],
   "source": [
    "# создание пустого 1-мерного массива \n",
    "np.empty(5)"
   ]
  },
  {
   "cell_type": "code",
   "execution_count": 8,
   "id": "620bba04",
   "metadata": {},
   "outputs": [
    {
     "data": {
      "text/plain": [
       "array([[3.22004180e-312, 3.22004182e-312, 3.22004182e-312],\n",
       "       [3.22004181e-312, 3.22004181e-312, 3.22004182e-312],\n",
       "       [3.22004181e-312, 3.22004182e-312, 7.72493447e+228]])"
      ]
     },
     "execution_count": 8,
     "metadata": {},
     "output_type": "execute_result"
    }
   ],
   "source": [
    "# создание пустого 2-мерного массива \n",
    "np.empty((3, 3))"
   ]
  },
  {
   "cell_type": "code",
   "execution_count": 9,
   "id": "91a8ff65",
   "metadata": {},
   "outputs": [
    {
     "data": {
      "text/plain": [
       "array([[[[3.21998851e-312, 3.22005919e-312, 3.21878634e-312],\n",
       "         [3.22005919e-312, 3.21878634e-312, 3.21989493e-312],\n",
       "         [3.21989492e-312, 3.22005919e-312, 3.22003268e-312]],\n",
       "\n",
       "        [[3.22003268e-312, 3.22003268e-312, 3.22005919e-312],\n",
       "         [3.22005919e-312, 3.22003269e-312, 3.22003269e-312],\n",
       "         [3.22005919e-312, 3.22005919e-312, 3.22003269e-312]],\n",
       "\n",
       "        [[3.22003269e-312, 3.22003269e-312, 3.22003031e-312],\n",
       "         [3.22006392e-312, 3.22003269e-312, 3.22006151e-312],\n",
       "         [3.22006151e-312, 3.21989426e-312, 3.21878634e-312]]],\n",
       "\n",
       "\n",
       "       [[[3.22006151e-312, 3.21989426e-312, 3.22006151e-312],\n",
       "         [3.22006151e-312, 3.22006151e-312, 3.22005919e-312],\n",
       "         [3.22005920e-312, 3.22006151e-312, 3.21878634e-312]],\n",
       "\n",
       "        [[3.22006151e-312, 3.22006151e-312, 3.21998858e-312],\n",
       "         [3.22005920e-312, 3.22006151e-312, 3.22006151e-312],\n",
       "         [3.22005920e-312, 3.22006151e-312, 3.22006151e-312]],\n",
       "\n",
       "        [[3.22006392e-312, 3.22005920e-312, 3.22006152e-312],\n",
       "         [3.22006152e-312, 3.22006152e-312, 3.22006152e-312],\n",
       "         [3.21999536e-312, 3.21878634e-312, 3.22006392e-312]]],\n",
       "\n",
       "\n",
       "       [[[3.21878634e-312, 3.22002662e-312, 3.22003867e-312],\n",
       "         [3.22005920e-312, 3.21999536e-312, 3.21878634e-312],\n",
       "         [3.22003201e-312, 3.22003822e-312, 3.22006152e-312]],\n",
       "\n",
       "        [[3.22006152e-312, 3.22006152e-312, 3.22006152e-312],\n",
       "         [3.22006392e-312, 3.22003007e-312, 3.22003007e-312],\n",
       "         [3.22003007e-312, 3.21878634e-312, 3.21878634e-312]],\n",
       "\n",
       "        [[3.22003215e-312, 3.22010102e-312, 3.22006152e-312],\n",
       "         [3.22006152e-312, 3.22003007e-312, 3.21878634e-312],\n",
       "         [3.22010102e-312, 3.22010102e-312, 1.39794838e-308]]]])"
      ]
     },
     "execution_count": 9,
     "metadata": {},
     "output_type": "execute_result"
    }
   ],
   "source": [
    "np.empty((3, 3, 3, 3))"
   ]
  },
  {
   "cell_type": "code",
   "execution_count": 10,
   "id": "3a13c4e9",
   "metadata": {},
   "outputs": [
    {
     "data": {
      "text/plain": [
       "array([[-1330358816,         151, -1330358368],\n",
       "       [        151, -1330360032,         151]])"
      ]
     },
     "execution_count": 10,
     "metadata": {},
     "output_type": "execute_result"
    }
   ],
   "source": [
    "# создание пустого 2-мерного массива на базе другого существующего массива\n",
    "np.empty_like(arr_3)"
   ]
  },
  {
   "cell_type": "code",
   "execution_count": 11,
   "id": "5dc2e6e1",
   "metadata": {},
   "outputs": [
    {
     "data": {
      "text/plain": [
       "array([0., 0., 0., 0., 0., 0., 0., 0., 0., 0.])"
      ]
     },
     "execution_count": 11,
     "metadata": {},
     "output_type": "execute_result"
    }
   ],
   "source": [
    "# создание 1-мерного массива (вектор-строки) из нулей\n",
    "np.zeros(10)"
   ]
  },
  {
   "cell_type": "code",
   "execution_count": 12,
   "id": "7ca3665c",
   "metadata": {},
   "outputs": [
    {
     "data": {
      "text/plain": [
       "array([[0., 0.],\n",
       "       [0., 0.],\n",
       "       [0., 0.],\n",
       "       [0., 0.],\n",
       "       [0., 0.],\n",
       "       [0., 0.],\n",
       "       [0., 0.],\n",
       "       [0., 0.],\n",
       "       [0., 0.],\n",
       "       [0., 0.]])"
      ]
     },
     "execution_count": 12,
     "metadata": {},
     "output_type": "execute_result"
    }
   ],
   "source": [
    "# создание 2-мерного массива (вектор-стoлбца) из нулей\n",
    "np.zeros((10, 2))"
   ]
  },
  {
   "cell_type": "code",
   "execution_count": 15,
   "id": "11cd82b2",
   "metadata": {},
   "outputs": [
    {
     "data": {
      "text/plain": [
       "array([1., 1., 1., 1., 1., 1., 1., 1., 1., 1.])"
      ]
     },
     "execution_count": 15,
     "metadata": {},
     "output_type": "execute_result"
    }
   ],
   "source": [
    "# создание 1-мерного массива (вектор-строки) из единиц\n",
    "arr_4 = np.ones(10)\n",
    "arr_4"
   ]
  },
  {
   "cell_type": "code",
   "execution_count": 14,
   "id": "e4cfa444",
   "metadata": {},
   "outputs": [
    {
     "data": {
      "text/plain": [
       "dtype('int32')"
      ]
     },
     "execution_count": 14,
     "metadata": {},
     "output_type": "execute_result"
    }
   ],
   "source": [
    "# типы данных массивов\n",
    "arr_3.dtype"
   ]
  },
  {
   "cell_type": "code",
   "execution_count": 16,
   "id": "7b2011b6",
   "metadata": {},
   "outputs": [
    {
     "data": {
      "text/plain": [
       "dtype('float64')"
      ]
     },
     "execution_count": 16,
     "metadata": {},
     "output_type": "execute_result"
    }
   ],
   "source": [
    "arr_4.dtype"
   ]
  },
  {
   "cell_type": "code",
   "execution_count": 17,
   "id": "2e1e3460",
   "metadata": {},
   "outputs": [
    {
     "data": {
      "text/plain": [
       "array([1, 1, 1, 1, 1, 1, 1, 1, 1, 1], dtype=int64)"
      ]
     },
     "execution_count": 17,
     "metadata": {},
     "output_type": "execute_result"
    }
   ],
   "source": [
    "# конвертация типа данных массива \n",
    "arr_5 = arr_4.astype(\"int64\")\n",
    "arr_5"
   ]
  },
  {
   "cell_type": "code",
   "execution_count": null,
   "id": "ba6667fa",
   "metadata": {},
   "outputs": [],
   "source": []
  },
  {
   "cell_type": "code",
   "execution_count": 20,
   "id": "c1d3dd22",
   "metadata": {},
   "outputs": [
    {
     "data": {
      "text/plain": [
       "array([1, 5, 5, 8, 7])"
      ]
     },
     "execution_count": 20,
     "metadata": {},
     "output_type": "execute_result"
    }
   ],
   "source": [
    "# Массивы со случайными значениями\n",
    "\n",
    "# 1-мерный массив формой 5\n",
    "# с случайными целочисленными значениями\n",
    "\n",
    "arr_6 = np.random.randint(10, size=5)\n",
    "arr_6"
   ]
  },
  {
   "cell_type": "code",
   "execution_count": 22,
   "id": "1bcd345a",
   "metadata": {},
   "outputs": [
    {
     "data": {
      "text/plain": [
       "array([9, 3, 5, 5, 8])"
      ]
     },
     "execution_count": 22,
     "metadata": {},
     "output_type": "execute_result"
    }
   ],
   "source": [
    "np.random.randint(10, size=5)"
   ]
  },
  {
   "cell_type": "code",
   "execution_count": null,
   "id": "4d3bc4ab",
   "metadata": {},
   "outputs": [],
   "source": []
  }
 ],
 "metadata": {
  "kernelspec": {
   "display_name": "Python 3 (ipykernel)",
   "language": "python",
   "name": "python3"
  },
  "language_info": {
   "codemirror_mode": {
    "name": "ipython",
    "version": 3
   },
   "file_extension": ".py",
   "mimetype": "text/x-python",
   "name": "python",
   "nbconvert_exporter": "python",
   "pygments_lexer": "ipython3",
   "version": "3.10.5"
  }
 },
 "nbformat": 4,
 "nbformat_minor": 5
}
