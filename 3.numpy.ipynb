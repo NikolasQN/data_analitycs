{
 "cells": [
  {
   "cell_type": "markdown",
   "id": "faeb33f8",
   "metadata": {},
   "source": [
    "## Атрибуты"
   ]
  },
  {
   "cell_type": "code",
   "execution_count": 1,
   "id": "52d0e3bb",
   "metadata": {},
   "outputs": [],
   "source": [
    "import numpy as np"
   ]
  },
  {
   "cell_type": "code",
   "execution_count": 9,
   "id": "8fddd050",
   "metadata": {},
   "outputs": [
    {
     "data": {
      "text/plain": [
       "array([-4, -5, -9,  3,  8,  8, -2, -7,  3,  9,  6,  7, -6,  3,  5])"
      ]
     },
     "execution_count": 9,
     "metadata": {},
     "output_type": "execute_result"
    }
   ],
   "source": [
    "# 1-мерный массив (вектор-строка)\n",
    "\n",
    "arr_0 = np.random.randint(-10, 10, size=15)\n",
    "arr_0"
   ]
  },
  {
   "cell_type": "code",
   "execution_count": 13,
   "id": "d60389be",
   "metadata": {},
   "outputs": [
    {
     "data": {
      "text/plain": [
       "array([[0.92410868, 0.05561329, 0.82190122, 0.02327978, 0.70178547],\n",
       "       [0.02620598, 0.02236406, 0.31647136, 0.09327209, 0.5720543 ],\n",
       "       [0.71198447, 0.15392795, 0.75432491, 0.70799735, 0.88145783]])"
      ]
     },
     "execution_count": 13,
     "metadata": {},
     "output_type": "execute_result"
    }
   ],
   "source": [
    "# 2-мерный массив (матрица)\n",
    "\n",
    "arr_1 = np.random.rand(3,5)\n",
    "arr_1"
   ]
  },
  {
   "cell_type": "code",
   "execution_count": 14,
   "id": "f72e80a3",
   "metadata": {},
   "outputs": [
    {
     "data": {
      "text/plain": [
       "(15,)"
      ]
     },
     "execution_count": 14,
     "metadata": {},
     "output_type": "execute_result"
    }
   ],
   "source": [
    "# форма\n",
    "\n",
    "arr_0.shape"
   ]
  },
  {
   "cell_type": "code",
   "execution_count": 15,
   "id": "f9b314be",
   "metadata": {},
   "outputs": [
    {
     "data": {
      "text/plain": [
       "(3, 5)"
      ]
     },
     "execution_count": 15,
     "metadata": {},
     "output_type": "execute_result"
    }
   ],
   "source": [
    "arr_1.shape"
   ]
  },
  {
   "cell_type": "code",
   "execution_count": 16,
   "id": "61092ad0",
   "metadata": {},
   "outputs": [
    {
     "data": {
      "text/plain": [
       "dtype('int32')"
      ]
     },
     "execution_count": 16,
     "metadata": {},
     "output_type": "execute_result"
    }
   ],
   "source": [
    "# тип данных массивов\n",
    "arr_0.dtype"
   ]
  },
  {
   "cell_type": "code",
   "execution_count": 17,
   "id": "22d41310",
   "metadata": {},
   "outputs": [
    {
     "data": {
      "text/plain": [
       "dtype('float64')"
      ]
     },
     "execution_count": 17,
     "metadata": {},
     "output_type": "execute_result"
    }
   ],
   "source": [
    "arr_1.dtype"
   ]
  },
  {
   "cell_type": "code",
   "execution_count": 18,
   "id": "f799f984",
   "metadata": {},
   "outputs": [
    {
     "data": {
      "text/plain": [
       "2"
      ]
     },
     "execution_count": 18,
     "metadata": {},
     "output_type": "execute_result"
    }
   ],
   "source": [
    "# мерность массива (количество измерений, осей)\n",
    "arr_1.ndim"
   ]
  },
  {
   "cell_type": "code",
   "execution_count": 19,
   "id": "40d8e409",
   "metadata": {},
   "outputs": [
    {
     "data": {
      "text/plain": [
       "120"
      ]
     },
     "execution_count": 19,
     "metadata": {},
     "output_type": "execute_result"
    }
   ],
   "source": [
    "# занимаемый объем памяти (в байтах)\n",
    "arr_1.nbytes"
   ]
  },
  {
   "cell_type": "code",
   "execution_count": 21,
   "id": "a74221a1",
   "metadata": {},
   "outputs": [
    {
     "data": {
      "text/plain": [
       "15"
      ]
     },
     "execution_count": 21,
     "metadata": {},
     "output_type": "execute_result"
    }
   ],
   "source": [
    "# количесвто элементов массива\n",
    "arr_1.size"
   ]
  },
  {
   "cell_type": "code",
   "execution_count": null,
   "id": "81168b53",
   "metadata": {},
   "outputs": [],
   "source": []
  },
  {
   "cell_type": "markdown",
   "id": "f55cb36b",
   "metadata": {},
   "source": [
    "## Методы массивов"
   ]
  },
  {
   "cell_type": "code",
   "execution_count": 23,
   "id": "f0105df4",
   "metadata": {},
   "outputs": [
    {
     "data": {
      "text/plain": [
       "array([[0.92410868, 0.05561329, 0.82190122, 0.02327978, 0.70178547],\n",
       "       [0.02620598, 0.02236406, 0.31647136, 0.09327209, 0.5720543 ],\n",
       "       [0.71198447, 0.15392795, 0.75432491, 0.70799735, 0.88145783]])"
      ]
     },
     "execution_count": 23,
     "metadata": {},
     "output_type": "execute_result"
    }
   ],
   "source": [
    "arr_1"
   ]
  },
  {
   "cell_type": "code",
   "execution_count": 24,
   "id": "49dc4a47",
   "metadata": {},
   "outputs": [
    {
     "data": {
      "text/plain": [
       "dtype('float64')"
      ]
     },
     "execution_count": 24,
     "metadata": {},
     "output_type": "execute_result"
    }
   ],
   "source": [
    "arr_1.dtype"
   ]
  },
  {
   "cell_type": "code",
   "execution_count": 26,
   "id": "97c87beb",
   "metadata": {},
   "outputs": [
    {
     "data": {
      "text/plain": [
       "array([[0.9243 , 0.0556 , 0.822  , 0.02328, 0.7017 ],\n",
       "       [0.0262 , 0.02237, 0.3164 , 0.09326, 0.5723 ],\n",
       "       [0.712  , 0.1539 , 0.7544 , 0.708  , 0.8813 ]], dtype=float16)"
      ]
     },
     "execution_count": 26,
     "metadata": {},
     "output_type": "execute_result"
    }
   ],
   "source": [
    "# конвертация типа данных\n",
    "arr_2 = arr_1.astype(\"float16\")\n",
    "arr_2"
   ]
  },
  {
   "cell_type": "code",
   "execution_count": 28,
   "id": "18423d88",
   "metadata": {},
   "outputs": [
    {
     "data": {
      "text/plain": [
       "array([[0.9243 , 0.0262 , 0.712  ],\n",
       "       [0.0556 , 0.02237, 0.1539 ],\n",
       "       [0.822  , 0.3164 , 0.7544 ],\n",
       "       [0.02328, 0.09326, 0.708  ],\n",
       "       [0.7017 , 0.5723 , 0.8813 ]], dtype=float16)"
      ]
     },
     "execution_count": 28,
     "metadata": {},
     "output_type": "execute_result"
    }
   ],
   "source": [
    "# транспонирование - поворот матрицы по диагонали (с верхнего левого на правый)\n",
    "# arr_2.transpose()\n",
    "arr_2.T"
   ]
  },
  {
   "cell_type": "code",
   "execution_count": 32,
   "id": "b7907465",
   "metadata": {},
   "outputs": [
    {
     "data": {
      "text/plain": [
       "array([[0.9243 , 0.0556 , 0.822  , 0.02328, 0.7017 ],\n",
       "       [0.0262 , 0.02237, 0.3164 , 0.09326, 0.5723 ],\n",
       "       [0.712  , 0.1539 , 0.7544 , 0.708  , 0.8813 ]], dtype=float16)"
      ]
     },
     "execution_count": 32,
     "metadata": {},
     "output_type": "execute_result"
    }
   ],
   "source": [
    "arr_2"
   ]
  },
  {
   "cell_type": "code",
   "execution_count": 30,
   "id": "443137ca",
   "metadata": {},
   "outputs": [
    {
     "data": {
      "text/plain": [
       "(array([0.0262 , 0.02237, 0.3164 , 0.02328, 0.5723 ], dtype=float16),\n",
       " array([0.9243, 0.5723, 0.8813], dtype=float16),\n",
       " 0.4512)"
      ]
     },
     "execution_count": 30,
     "metadata": {},
     "output_type": "execute_result"
    }
   ],
   "source": [
    "# минимальное максимальное и средне-арифметическое значения\n",
    "\n",
    "arr_2.min(axis=0), arr_2.max(axis=1), arr_2.mean()"
   ]
  },
  {
   "cell_type": "code",
   "execution_count": 33,
   "id": "024e8d72",
   "metadata": {},
   "outputs": [
    {
     "data": {
      "text/plain": [
       "(6, 0)"
      ]
     },
     "execution_count": 33,
     "metadata": {},
     "output_type": "execute_result"
    }
   ],
   "source": [
    "# индексы минимального и маскимального значений\n",
    "arr_2.argmin(), arr_2.argmax()"
   ]
  },
  {
   "cell_type": "code",
   "execution_count": 34,
   "id": "412a6cf9",
   "metadata": {},
   "outputs": [
    {
     "data": {
      "text/plain": [
       "(array([1, 1, 1, 0, 1], dtype=int64), array([0, 4, 4], dtype=int64))"
      ]
     },
     "execution_count": 34,
     "metadata": {},
     "output_type": "execute_result"
    }
   ],
   "source": [
    "arr_2.argmin(axis=0), arr_2.argmax(axis=1)"
   ]
  },
  {
   "cell_type": "code",
   "execution_count": 35,
   "id": "8b18f14e",
   "metadata": {},
   "outputs": [
    {
     "data": {
      "text/plain": [
       "array([-4, -5, -9,  3,  8,  8, -2, -7,  3,  9,  6,  7, -6,  3,  5])"
      ]
     },
     "execution_count": 35,
     "metadata": {},
     "output_type": "execute_result"
    }
   ],
   "source": [
    "arr_0"
   ]
  },
  {
   "cell_type": "code",
   "execution_count": 36,
   "id": "b564ded5",
   "metadata": {},
   "outputs": [],
   "source": [
    "# метод сортировки значений массива (от меньшего к большему)\n",
    "arr_0.sort()"
   ]
  },
  {
   "cell_type": "code",
   "execution_count": 37,
   "id": "c86b1628",
   "metadata": {},
   "outputs": [
    {
     "data": {
      "text/plain": [
       "array([-9, -7, -6, -5, -4, -2,  3,  3,  3,  5,  6,  7,  8,  8,  9])"
      ]
     },
     "execution_count": 37,
     "metadata": {},
     "output_type": "execute_result"
    }
   ],
   "source": [
    "arr_0"
   ]
  },
  {
   "cell_type": "code",
   "execution_count": 38,
   "id": "db1fdc1b",
   "metadata": {},
   "outputs": [
    {
     "data": {
      "text/plain": [
       "array([ 9,  8,  8,  7,  6,  5,  3,  3,  3, -2, -4, -5, -6, -7, -9])"
      ]
     },
     "execution_count": 38,
     "metadata": {},
     "output_type": "execute_result"
    }
   ],
   "source": [
    "# переворот отсортированного массива от большего к меньшему\n",
    "arr_0[::-1]"
   ]
  },
  {
   "cell_type": "code",
   "execution_count": 39,
   "id": "13010c72",
   "metadata": {},
   "outputs": [
    {
     "data": {
      "text/plain": [
       "array([4, 5, 5, 3, 9, 6, 1, 0, 3, 5, 3, 7, 4, 7, 5])"
      ]
     },
     "execution_count": 39,
     "metadata": {},
     "output_type": "execute_result"
    }
   ],
   "source": [
    "arr_3 = np.random.randint(10, size=15)\n",
    "arr_3"
   ]
  },
  {
   "cell_type": "code",
   "execution_count": 40,
   "id": "c010b90e",
   "metadata": {},
   "outputs": [
    {
     "data": {
      "text/plain": [
       "array([ 7,  6,  3,  8, 10,  0, 12,  1,  2,  9, 14,  5, 11, 13,  4],\n",
       "      dtype=int64)"
      ]
     },
     "execution_count": 40,
     "metadata": {},
     "output_type": "execute_result"
    }
   ],
   "source": [
    "# метод возвращающий индексы сортированных значений\n",
    "arr_3.argsort()"
   ]
  },
  {
   "cell_type": "code",
   "execution_count": 41,
   "id": "3945d1fc",
   "metadata": {},
   "outputs": [],
   "source": [
    "# сортировка двумерного массива (самостоятельно)"
   ]
  },
  {
   "cell_type": "code",
   "execution_count": null,
   "id": "9182491d",
   "metadata": {},
   "outputs": [],
   "source": []
  },
  {
   "cell_type": "markdown",
   "id": "78cc4583",
   "metadata": {},
   "source": [
    "## Индексация"
   ]
  },
  {
   "cell_type": "code",
   "execution_count": 43,
   "id": "c4673883",
   "metadata": {},
   "outputs": [
    {
     "data": {
      "text/plain": [
       "array([[  2,   5, -10,  -7],\n",
       "       [ -7,  -3,  -1,   9],\n",
       "       [  8,  -6,  -4,   2]])"
      ]
     },
     "execution_count": 43,
     "metadata": {},
     "output_type": "execute_result"
    }
   ],
   "source": [
    "np.random.seed(0)\n",
    "arr_4 = np.random.randint(-10, 10, size=(3,4))\n",
    "arr_4"
   ]
  },
  {
   "cell_type": "code",
   "execution_count": 44,
   "id": "143066c7",
   "metadata": {},
   "outputs": [
    {
     "data": {
      "text/plain": [
       "array([-7, -3, -1,  9])"
      ]
     },
     "execution_count": 44,
     "metadata": {},
     "output_type": "execute_result"
    }
   ],
   "source": [
    "# прямая индексация\n",
    "arr_4[1]"
   ]
  },
  {
   "cell_type": "code",
   "execution_count": 45,
   "id": "c4ab6812",
   "metadata": {},
   "outputs": [
    {
     "data": {
      "text/plain": [
       "array([ 8, -6, -4,  2])"
      ]
     },
     "execution_count": 45,
     "metadata": {},
     "output_type": "execute_result"
    }
   ],
   "source": [
    "# обратная индексация\n",
    "arr_4[-1]"
   ]
  },
  {
   "cell_type": "code",
   "execution_count": 46,
   "id": "4f15d569",
   "metadata": {},
   "outputs": [
    {
     "data": {
      "text/plain": [
       "-4"
      ]
     },
     "execution_count": 46,
     "metadata": {},
     "output_type": "execute_result"
    }
   ],
   "source": [
    "# извлечение знаения элементов массива\n",
    "# стандартный питоновский синтаксис\n",
    "arr_4[-1][2]"
   ]
  },
  {
   "cell_type": "code",
   "execution_count": 47,
   "id": "be330e23",
   "metadata": {},
   "outputs": [
    {
     "data": {
      "text/plain": [
       "-4"
      ]
     },
     "execution_count": 47,
     "metadata": {},
     "output_type": "execute_result"
    }
   ],
   "source": [
    "# numpy-евский синтаксис\n",
    "arr_4[-1, 2]"
   ]
  },
  {
   "cell_type": "code",
   "execution_count": 48,
   "id": "ff9ae23f",
   "metadata": {},
   "outputs": [
    {
     "data": {
      "text/plain": [
       "array([[  2,   5, -10,  -7],\n",
       "       [ -7,  -3,  -1,   9],\n",
       "       [  8,  -6, 100,   2]])"
      ]
     },
     "execution_count": 48,
     "metadata": {},
     "output_type": "execute_result"
    }
   ],
   "source": [
    "# запись значения\n",
    "arr_4[-1, 2] = 100\n",
    "arr_4"
   ]
  },
  {
   "cell_type": "code",
   "execution_count": null,
   "id": "b50d8188",
   "metadata": {},
   "outputs": [],
   "source": []
  },
  {
   "cell_type": "markdown",
   "id": "611e8221",
   "metadata": {},
   "source": [
    "##  Срезы\n"
   ]
  },
  {
   "cell_type": "code",
   "execution_count": 49,
   "id": "607cf669",
   "metadata": {},
   "outputs": [
    {
     "data": {
      "text/plain": [
       "array([[  2,   5, -10,  -7],\n",
       "       [ -7,  -3,  -1,   9],\n",
       "       [  8,  -6, 100,   2]])"
      ]
     },
     "execution_count": 49,
     "metadata": {},
     "output_type": "execute_result"
    }
   ],
   "source": [
    "arr_4"
   ]
  },
  {
   "cell_type": "code",
   "execution_count": 50,
   "id": "655d0754",
   "metadata": {},
   "outputs": [
    {
     "data": {
      "text/plain": [
       "array([[ -7,  -3,  -1,   9],\n",
       "       [  8,  -6, 100,   2]])"
      ]
     },
     "execution_count": 50,
     "metadata": {},
     "output_type": "execute_result"
    }
   ],
   "source": [
    "# срез строк\n",
    "arr_4[1:]"
   ]
  },
  {
   "cell_type": "code",
   "execution_count": 53,
   "id": "3104c7f3",
   "metadata": {},
   "outputs": [
    {
     "data": {
      "text/plain": [
       "array([[  2,   5, -10],\n",
       "       [ -7,  -3,  -1],\n",
       "       [  8,  -6, 100]])"
      ]
     },
     "execution_count": 53,
     "metadata": {},
     "output_type": "execute_result"
    }
   ],
   "source": [
    "# срез столбцов\n",
    "arr_4[:,:3]"
   ]
  },
  {
   "cell_type": "code",
   "execution_count": 54,
   "id": "056984b1",
   "metadata": {},
   "outputs": [
    {
     "data": {
      "text/plain": [
       "array([[ -7,  -3,  -1],\n",
       "       [  8,  -6, 100]])"
      ]
     },
     "execution_count": 54,
     "metadata": {},
     "output_type": "execute_result"
    }
   ],
   "source": [
    "# срез по строкам и столбцам\n",
    "arr_4[1:,:3]"
   ]
  },
  {
   "cell_type": "code",
   "execution_count": 55,
   "id": "416bfb68",
   "metadata": {},
   "outputs": [
    {
     "data": {
      "text/plain": [
       "array([[  2,   5, -10,  -7],\n",
       "       [ -7,  -3,  -1,   9],\n",
       "       [  8,  -6, 100,   2]])"
      ]
     },
     "execution_count": 55,
     "metadata": {},
     "output_type": "execute_result"
    }
   ],
   "source": [
    "arr_4"
   ]
  },
  {
   "cell_type": "code",
   "execution_count": 56,
   "id": "af2badec",
   "metadata": {},
   "outputs": [
    {
     "data": {
      "text/plain": [
       "array([[ -7,  -3,  -1],\n",
       "       [  8,  -6, 100]])"
      ]
     },
     "execution_count": 56,
     "metadata": {},
     "output_type": "execute_result"
    }
   ],
   "source": [
    "# Срез создает не новый независимый массив, \n",
    "# а создает представление исходного (view), поэтому при последующих изменениях, меняется исходник\n",
    "\n",
    "arr_5 = arr_4[1:,:3]\n",
    "arr_5"
   ]
  },
  {
   "cell_type": "code",
   "execution_count": 57,
   "id": "2053110d",
   "metadata": {},
   "outputs": [
    {
     "data": {
      "text/plain": [
       "array([[  -7,   -3,   -1],\n",
       "       [   8,   -6, 9235]])"
      ]
     },
     "execution_count": 57,
     "metadata": {},
     "output_type": "execute_result"
    }
   ],
   "source": [
    "arr_5[-1, -1] = 9235\n",
    "arr_5"
   ]
  },
  {
   "cell_type": "code",
   "execution_count": 58,
   "id": "5a60e142",
   "metadata": {},
   "outputs": [
    {
     "data": {
      "text/plain": [
       "array([[   2,    5,  -10,   -7],\n",
       "       [  -7,   -3,   -1,    9],\n",
       "       [   8,   -6, 9235,    2]])"
      ]
     },
     "execution_count": 58,
     "metadata": {},
     "output_type": "execute_result"
    }
   ],
   "source": [
    "arr_4"
   ]
  },
  {
   "cell_type": "code",
   "execution_count": null,
   "id": "4a924538",
   "metadata": {},
   "outputs": [],
   "source": [
    "\n"
   ]
  },
  {
   "cell_type": "code",
   "execution_count": 67,
   "id": "d60b150c",
   "metadata": {},
   "outputs": [
    {
     "data": {
      "text/plain": [
       "array([[777, 777, 777],\n",
       "       [777, 777, 777]])"
      ]
     },
     "execution_count": 67,
     "metadata": {},
     "output_type": "execute_result"
    }
   ],
   "source": [
    "# копия массива - возвращает независимый массив\n",
    "arr_6 = arr_4[1:,:3].copy()\n",
    "arr_6"
   ]
  },
  {
   "cell_type": "code",
   "execution_count": 68,
   "id": "5bc0a935",
   "metadata": {},
   "outputs": [
    {
     "data": {
      "text/plain": [
       "array([[777, 777, 777],\n",
       "       [777, 777, 121]])"
      ]
     },
     "execution_count": 68,
     "metadata": {},
     "output_type": "execute_result"
    }
   ],
   "source": [
    "arr_6[-1, -1] = 121\n",
    "arr_6"
   ]
  },
  {
   "cell_type": "code",
   "execution_count": null,
   "id": "def27dd2",
   "metadata": {},
   "outputs": [],
   "source": []
  }
 ],
 "metadata": {
  "kernelspec": {
   "display_name": "Python 3 (ipykernel)",
   "language": "python",
   "name": "python3"
  },
  "language_info": {
   "codemirror_mode": {
    "name": "ipython",
    "version": 3
   },
   "file_extension": ".py",
   "mimetype": "text/x-python",
   "name": "python",
   "nbconvert_exporter": "python",
   "pygments_lexer": "ipython3",
   "version": "3.10.5"
  }
 },
 "nbformat": 4,
 "nbformat_minor": 5
}
